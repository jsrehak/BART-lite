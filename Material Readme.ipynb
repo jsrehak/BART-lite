{
 "cells": [
  {
   "cell_type": "markdown",
   "metadata": {},
   "source": [
    "# Material Classes"
   ]
  },
  {
   "cell_type": "markdown",
   "metadata": {},
   "source": [
    "There are two material classes to use `mat_lib` and `mat_map`, they are both contained in `material.py`."
   ]
  },
  {
   "cell_type": "code",
   "execution_count": 1,
   "metadata": {
    "collapsed": true
   },
   "outputs": [],
   "source": [
    "from material import mat_lib, mat_map\n",
    "import numpy as np"
   ]
  },
  {
   "cell_type": "markdown",
   "metadata": {},
   "source": [
    "1. [Readme](#README)\n",
    "2. [API Summary](#API)\n"
   ]
  },
  {
   "cell_type": "markdown",
   "metadata": {},
   "source": [
    "# README"
   ]
  },
  {
   "cell_type": "markdown",
   "metadata": {},
   "source": [
    "## Mat_lib"
   ]
  },
  {
   "cell_type": "markdown",
   "metadata": {},
   "source": [
    "`mat_lib` is the **Material Library**, and holds all the problem materials. This class should be used when info about a specific material, or all the materials is required. \n",
    "\n",
    "To initialize, it requires a list of all the desired material `xml` files, and the number of energy groups in the desired group structure, `n_grps`:"
   ]
  },
  {
   "cell_type": "code",
   "execution_count": 2,
   "metadata": {},
   "outputs": [],
   "source": [
    "file_loc = './tests/testData/materials/'\n",
    "files = [file_loc + m for m in ['test_mat.xml', 'test_mat2.xml']]\n",
    "lib = mat_lib(n_grps = 2, files = files)"
   ]
  },
  {
   "cell_type": "markdown",
   "metadata": {},
   "source": [
    "The library can also be intialized with only the number of groups, and then materials added using `mat_lib.add`, this is probably more useful if iterating through all the files in a directory. `n_grps` is always required at initialization."
   ]
  },
  {
   "cell_type": "code",
   "execution_count": 3,
   "metadata": {
    "collapsed": true
   },
   "outputs": [],
   "source": [
    "lib2 = mat_lib(n_grps = 2)\n",
    "for f in files:\n",
    "    lib2.add(f)"
   ]
  },
  {
   "cell_type": "markdown",
   "metadata": {},
   "source": [
    "Two utility functions return info about the materials, `ids` returns the material IDs and `props` shows all the properties that each material has, or the properties of a specific material id."
   ]
  },
  {
   "cell_type": "code",
   "execution_count": 4,
   "metadata": {},
   "outputs": [
    {
     "data": {
      "text/plain": [
       "['test_mat', 'test_mat2']"
      ]
     },
     "execution_count": 4,
     "metadata": {},
     "output_type": "execute_result"
    }
   ],
   "source": [
    "lib.ids()"
   ]
  },
  {
   "cell_type": "code",
   "execution_count": 5,
   "metadata": {},
   "outputs": [
    {
     "data": {
      "text/plain": [
       "{'test_mat': [['name', 'id'],\n",
       "  ['nu'],\n",
       "  ['chi', 'g_thermal'],\n",
       "  ['sig_s', 'sig_a', 'sig_f', 'sig_t'],\n",
       "  ['diff_coef_ua',\n",
       "   'diff_coef',\n",
       "   'chi_nu_sig_f',\n",
       "   'inv_sig_t',\n",
       "   'sig_t_ua',\n",
       "   'ksi_ua']],\n",
       " 'test_mat2': [['name', 'id'],\n",
       "  ['nu'],\n",
       "  ['chi', 'g_thermal'],\n",
       "  ['sig_s', 'sig_a', 'sig_f', 'sig_t'],\n",
       "  ['diff_coef_ua',\n",
       "   'diff_coef',\n",
       "   'chi_nu_sig_f',\n",
       "   'inv_sig_t',\n",
       "   'sig_t_ua',\n",
       "   'ksi_ua']]}"
      ]
     },
     "execution_count": 5,
     "metadata": {},
     "output_type": "execute_result"
    }
   ],
   "source": [
    "lib.props()"
   ]
  },
  {
   "cell_type": "code",
   "execution_count": 6,
   "metadata": {},
   "outputs": [
    {
     "data": {
      "text/plain": [
       "[['name', 'id'],\n",
       " ['nu'],\n",
       " ['chi', 'g_thermal'],\n",
       " ['sig_s', 'sig_a', 'sig_f', 'sig_t'],\n",
       " ['diff_coef_ua',\n",
       "  'diff_coef',\n",
       "  'chi_nu_sig_f',\n",
       "  'inv_sig_t',\n",
       "  'sig_t_ua',\n",
       "  'ksi_ua']]"
      ]
     },
     "execution_count": 6,
     "metadata": {},
     "output_type": "execute_result"
    }
   ],
   "source": [
    "lib.props('test_mat')"
   ]
  },
  {
   "cell_type": "markdown",
   "metadata": {},
   "source": [
    "#### Accessing Data"
   ]
  },
  {
   "cell_type": "markdown",
   "metadata": {},
   "source": [
    "The main method to access data is `get`. This will either return:\n",
    "- A dictionary containing all the materials as keys, and the desired property as values **or**\n",
    "- The value of the property for a particular material."
   ]
  },
  {
   "cell_type": "code",
   "execution_count": 7,
   "metadata": {},
   "outputs": [
    {
     "data": {
      "text/plain": [
       "{'test_mat': array([ 20.,  30.]), 'test_mat2': array([ 10.,  20.])}"
      ]
     },
     "execution_count": 7,
     "metadata": {},
     "output_type": "execute_result"
    }
   ],
   "source": [
    "# Get dictionary of all sig_t values:\n",
    "lib.get('sig_t')"
   ]
  },
  {
   "cell_type": "code",
   "execution_count": 8,
   "metadata": {},
   "outputs": [
    {
     "data": {
      "text/plain": [
       "array([ 20.,  30.])"
      ]
     },
     "execution_count": 8,
     "metadata": {},
     "output_type": "execute_result"
    }
   ],
   "source": [
    "# Get values for a specific material:\n",
    "lib.get('sig_t', mat_id = 'test_mat')"
   ]
  },
  {
   "cell_type": "markdown",
   "metadata": {},
   "source": [
    "Note this is identical to using:"
   ]
  },
  {
   "cell_type": "code",
   "execution_count": 9,
   "metadata": {},
   "outputs": [
    {
     "data": {
      "text/plain": [
       "array([ 20.,  30.])"
      ]
     },
     "execution_count": 9,
     "metadata": {},
     "output_type": "execute_result"
    }
   ],
   "source": [
    "lib.get('sig_t')['test_mat']"
   ]
  },
  {
   "cell_type": "markdown",
   "metadata": {},
   "source": [
    "To get a property per steradian, use `get_per_str`:"
   ]
  },
  {
   "cell_type": "code",
   "execution_count": 10,
   "metadata": {},
   "outputs": [
    {
     "data": {
      "text/plain": [
       "array([ 1.59154943,  2.38732415])"
      ]
     },
     "execution_count": 10,
     "metadata": {},
     "output_type": "execute_result"
    }
   ],
   "source": [
    "lib.get_per_str('sig_t', mat_id='test_mat')"
   ]
  },
  {
   "cell_type": "markdown",
   "metadata": {},
   "source": [
    "Other functions will return cell corrections and bd corrections using the same syntax:"
   ]
  },
  {
   "cell_type": "code",
   "execution_count": 11,
   "metadata": {},
   "outputs": [
    {
     "name": "stdout",
     "output_type": "stream",
     "text": [
      "{'test_mat2': array([ 120.,  120.]), 'test_mat': array([ 70.,  70.])}\n",
      "{'test_mat2': 120.0, 'test_mat': 70.0}\n"
     ]
    }
   ],
   "source": [
    "print lib.cell_correction_ua(np.array([[1.0, 1.0],[1.0,1.0]]))\n",
    "print lib.bd_correction_ua(np.array([1.0, 1.0]))"
   ]
  },
  {
   "cell_type": "markdown",
   "metadata": {},
   "source": [
    "## MAT_MAP"
   ]
  },
  {
   "cell_type": "markdown",
   "metadata": {},
   "source": [
    "`mat_map` is a **material mapping** that takes the problem material layout and connects it to the materials contained in the material library."
   ]
  },
  {
   "cell_type": "markdown",
   "metadata": {},
   "source": [
    "To make a mapping, it requires\n",
    "- `lib` A material library that contains all problem materials\n",
    "- `layout` A string showing the material layout of the problem, with different values meaning different materials. This must have a square number of values to map to the square problem.\n",
    "- `layout_dict` a dictionary connecting the strings used in the layout to the material ids in the library.\n",
    "- `x_max` maximum x-value of the problem.\n",
    "- `n` number of cells along each side of the problem\n",
    "OPTIONAL\n",
    "- `x_min`, `y_min` otherwise defaults to 0\n",
    "- `y_max` otherwise defaults to `x_max`"
   ]
  },
  {
   "cell_type": "markdown",
   "metadata": {},
   "source": [
    "The layout string uses any characters to represent different materials, you can use any characters or strings that you want. For example, to have one material surrounded by another."
   ]
  },
  {
   "cell_type": "markdown",
   "metadata": {},
   "source": [
    "**Note:** The lower left of this array is the problem origin (0,0)"
   ]
  },
  {
   "cell_type": "code",
   "execution_count": 12,
   "metadata": {
    "collapsed": true
   },
   "outputs": [],
   "source": [
    "# Both of these are identical, \n",
    "# as any line breaks and extra spaces are removed. \n",
    "layout = \"\"\"1 1 1 1\n",
    "            1 2 2 1\n",
    "            1 2 2 1\n",
    "            1 1 1 1\"\"\"\n",
    "layout2 = \" 1 1 1 1 1 2 2 1 1 2 2 1 1 1 1 1\""
   ]
  },
  {
   "cell_type": "markdown",
   "metadata": {},
   "source": [
    "Next, the arbirary characters used (1 and 2 here) need to be linked back to materials in your material library. For example, we have two materials in ours:"
   ]
  },
  {
   "cell_type": "code",
   "execution_count": 13,
   "metadata": {},
   "outputs": [
    {
     "data": {
      "text/plain": [
       "['test_mat', 'test_mat2']"
      ]
     },
     "execution_count": 13,
     "metadata": {},
     "output_type": "execute_result"
    }
   ],
   "source": [
    "lib.ids()"
   ]
  },
  {
   "cell_type": "markdown",
   "metadata": {},
   "source": [
    "We link them using a dictionary, pairing the layout character with the material id:"
   ]
  },
  {
   "cell_type": "code",
   "execution_count": 14,
   "metadata": {
    "collapsed": true
   },
   "outputs": [],
   "source": [
    "layout_dict = {'1':'test_mat2', '2': 'test_mat'}"
   ]
  },
  {
   "cell_type": "markdown",
   "metadata": {},
   "source": [
    "We can then make our mapping:"
   ]
  },
  {
   "cell_type": "code",
   "execution_count": 15,
   "metadata": {
    "collapsed": true
   },
   "outputs": [],
   "source": [
    "mmap = mat_map(lib = lib, layout = layout, layout_dict = layout_dict, \n",
    "               x_max = 4, n=4)"
   ]
  },
  {
   "cell_type": "markdown",
   "metadata": {},
   "source": [
    "Now we can get material properties at any (x,y) value, or any cell index. Here, we get the name of the material, and the $\\Sigma_t$ using x and y coordinates in a tuple:"
   ]
  },
  {
   "cell_type": "code",
   "execution_count": 16,
   "metadata": {},
   "outputs": [
    {
     "name": "stdout",
     "output_type": "stream",
     "text": [
      "test_mat2\n",
      "[ 10.  20.]\n"
     ]
    }
   ],
   "source": [
    "print mmap.get('id', (0.5, 0.5))\n",
    "print mmap.get('sig_t', (0.5, 0.5))"
   ]
  },
  {
   "cell_type": "markdown",
   "metadata": {},
   "source": [
    "As expected, that location returns the correct material and properties. Cell index can also be used:"
   ]
  },
  {
   "cell_type": "code",
   "execution_count": 17,
   "metadata": {},
   "outputs": [
    {
     "name": "stdout",
     "output_type": "stream",
     "text": [
      "test_mat2\n",
      "[ 10.  20.]\n"
     ]
    }
   ],
   "source": [
    "print mmap.get('id', 1)\n",
    "print mmap.get('sig_t', 1)"
   ]
  },
  {
   "cell_type": "markdown",
   "metadata": {},
   "source": [
    "Use the same names to get cell corrections:"
   ]
  },
  {
   "cell_type": "code",
   "execution_count": 18,
   "metadata": {},
   "outputs": [
    {
     "data": {
      "text/plain": [
       "array([ 120.,  120.])"
      ]
     },
     "execution_count": 18,
     "metadata": {},
     "output_type": "execute_result"
    }
   ],
   "source": [
    "mmap.cell_correction_ua(np.array([[1.0, 1.0],[1.0,1.0]]), (0.5, 0.5))"
   ]
  },
  {
   "cell_type": "markdown",
   "metadata": {},
   "source": [
    "# API"
   ]
  },
  {
   "cell_type": "markdown",
   "metadata": {},
   "source": [
    "This is a summary of all functions."
   ]
  },
  {
   "cell_type": "markdown",
   "metadata": {},
   "source": [
    "## mat_lib"
   ]
  },
  {
   "cell_type": "code",
   "execution_count": 19,
   "metadata": {
    "collapsed": true
   },
   "outputs": [],
   "source": [
    "file_loc = './tests/testData/materials/'\n",
    "files = [file_loc + m for m in ['test_mat.xml', 'test_mat2.xml']]"
   ]
  },
  {
   "cell_type": "code",
   "execution_count": 21,
   "metadata": {
    "collapsed": true
   },
   "outputs": [],
   "source": [
    "# Initialize using list of files\n",
    "lib = mat_lib(n_grps = 2, files = files) \n",
    "\n",
    "# Add new ones using add\n",
    "lib2 = mat_lib(n_grps = 2)\n",
    "for f in files:\n",
    "    lib2.add(f)"
   ]
  },
  {
   "cell_type": "code",
   "execution_count": 22,
   "metadata": {},
   "outputs": [
    {
     "data": {
      "text/plain": [
       "['test_mat', 'test_mat2']"
      ]
     },
     "execution_count": 22,
     "metadata": {},
     "output_type": "execute_result"
    }
   ],
   "source": [
    "# Get IDs of materials\n",
    "lib.ids()"
   ]
  },
  {
   "cell_type": "code",
   "execution_count": 24,
   "metadata": {},
   "outputs": [
    {
     "data": {
      "text/plain": [
       "{'test_mat': [['name', 'id'],\n",
       "  ['nu'],\n",
       "  ['chi', 'g_thermal'],\n",
       "  ['sig_s', 'sig_a', 'sig_f', 'sig_t'],\n",
       "  ['diff_coef_ua',\n",
       "   'diff_coef',\n",
       "   'chi_nu_sig_f',\n",
       "   'inv_sig_t',\n",
       "   'sig_t_ua',\n",
       "   'ksi_ua']],\n",
       " 'test_mat2': [['name', 'id'],\n",
       "  ['nu'],\n",
       "  ['chi', 'g_thermal'],\n",
       "  ['sig_s', 'sig_a', 'sig_f', 'sig_t'],\n",
       "  ['diff_coef_ua',\n",
       "   'diff_coef',\n",
       "   'chi_nu_sig_f',\n",
       "   'inv_sig_t',\n",
       "   'sig_t_ua',\n",
       "   'ksi_ua']]}"
      ]
     },
     "execution_count": 24,
     "metadata": {},
     "output_type": "execute_result"
    }
   ],
   "source": [
    "# Get Properties of materials\n",
    "lib.props()"
   ]
  },
  {
   "cell_type": "code",
   "execution_count": 25,
   "metadata": {},
   "outputs": [
    {
     "data": {
      "text/plain": [
       "[['name', 'id'],\n",
       " ['nu'],\n",
       " ['chi', 'g_thermal'],\n",
       " ['sig_s', 'sig_a', 'sig_f', 'sig_t'],\n",
       " ['diff_coef_ua',\n",
       "  'diff_coef',\n",
       "  'chi_nu_sig_f',\n",
       "  'inv_sig_t',\n",
       "  'sig_t_ua',\n",
       "  'ksi_ua']]"
      ]
     },
     "execution_count": 25,
     "metadata": {},
     "output_type": "execute_result"
    }
   ],
   "source": [
    "# Get properties of a specific material\n",
    "lib.props('test_mat')"
   ]
  },
  {
   "cell_type": "code",
   "execution_count": 26,
   "metadata": {},
   "outputs": [
    {
     "data": {
      "text/plain": [
       "{'test_mat': array([ 20.,  30.]), 'test_mat2': array([ 10.,  20.])}"
      ]
     },
     "execution_count": 26,
     "metadata": {},
     "output_type": "execute_result"
    }
   ],
   "source": [
    "#Get properties of all materials\n",
    "lib.get('sig_t')"
   ]
  },
  {
   "cell_type": "code",
   "execution_count": 27,
   "metadata": {},
   "outputs": [
    {
     "data": {
      "text/plain": [
       "array([ 20.,  30.])"
      ]
     },
     "execution_count": 27,
     "metadata": {},
     "output_type": "execute_result"
    }
   ],
   "source": [
    "#Get property of a specific material\n",
    "lib.get('sig_t', mat_id = 'test_mat')"
   ]
  },
  {
   "cell_type": "code",
   "execution_count": 28,
   "metadata": {},
   "outputs": [
    {
     "name": "stdout",
     "output_type": "stream",
     "text": [
      "{'test_mat2': array([ 120.,  120.]), 'test_mat': array([ 70.,  70.])}\n",
      "{'test_mat2': 120.0, 'test_mat': 70.0}\n"
     ]
    }
   ],
   "source": [
    "# Calculate corrections:\n",
    "print lib.cell_correction_ua(np.array([[1.0, 1.0],[1.0,1.0]]))\n",
    "print lib.bd_correction_ua(np.array([1.0, 1.0]))"
   ]
  },
  {
   "cell_type": "code",
   "execution_count": 30,
   "metadata": {},
   "outputs": [
    {
     "data": {
      "text/plain": [
       "array([ 70.,  70.])"
      ]
     },
     "execution_count": 30,
     "metadata": {},
     "output_type": "execute_result"
    }
   ],
   "source": [
    "# can also get for a specific material\n",
    "lib.cell_correction_ua(np.array([[1.0, 1.0],[1.0,1.0]]), \n",
    "                             mat_id='test_mat')"
   ]
  },
  {
   "cell_type": "markdown",
   "metadata": {},
   "source": [
    "## mat_map"
   ]
  },
  {
   "cell_type": "code",
   "execution_count": 31,
   "metadata": {
    "collapsed": true
   },
   "outputs": [],
   "source": [
    "# Create layout and layout dictionary\n",
    "layout = \"\"\"1 1 1 1\n",
    "            1 2 2 1\n",
    "            1 2 2 1\n",
    "            1 1 1 1\"\"\"\n",
    "layout_dict = {'1':'test_mat2', '2': 'test_mat'}\n",
    "\n",
    "# Initialize\n",
    "mmap = mat_map(lib = lib, layout = layout, layout_dict = layout_dict, \n",
    "               x_max = 4, n=4)"
   ]
  },
  {
   "cell_type": "code",
   "execution_count": 32,
   "metadata": {},
   "outputs": [
    {
     "name": "stdout",
     "output_type": "stream",
     "text": [
      "test_mat2\n",
      "[ 10.  20.]\n",
      "test_mat2\n",
      "[ 10.  20.]\n"
     ]
    }
   ],
   "source": [
    "# Get values at locations, (x,y) or cell index k\n",
    "print mmap.get('id', (0.5, 0.5))\n",
    "print mmap.get('sig_t', (0.5, 0.5))\n",
    "print mmap.get('id', 1)\n",
    "print mmap.get('sig_t', 1)"
   ]
  },
  {
   "cell_type": "code",
   "execution_count": 34,
   "metadata": {},
   "outputs": [
    {
     "data": {
      "text/plain": [
       "array([ 120.,  120.])"
      ]
     },
     "execution_count": 34,
     "metadata": {},
     "output_type": "execute_result"
    }
   ],
   "source": [
    "# Get corrections at locations using the same syntax\n",
    "mmap.cell_correction_ua(np.array([[1.0, 1.0],[1.0,1.0]]), (0.5, 0.5))\n",
    "mmap.cell_correction_ua(np.array([[1.0, 1.0],[1.0,1.0]]), 1)"
   ]
  },
  {
   "cell_type": "code",
   "execution_count": null,
   "metadata": {
    "collapsed": true
   },
   "outputs": [],
   "source": []
  }
 ],
 "metadata": {
  "kernelspec": {
   "display_name": "Python [default]",
   "language": "python",
   "name": "python2"
  },
  "language_info": {
   "codemirror_mode": {
    "name": "ipython",
    "version": 2
   },
   "file_extension": ".py",
   "mimetype": "text/x-python",
   "name": "python",
   "nbconvert_exporter": "python",
   "pygments_lexer": "ipython2",
   "version": "2.7.13"
  }
 },
 "nbformat": 4,
 "nbformat_minor": 2
}
